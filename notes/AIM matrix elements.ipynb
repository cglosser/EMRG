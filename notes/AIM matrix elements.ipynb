{
 "cells": [
  {
   "cell_type": "markdown",
   "metadata": {},
   "source": [
    "AIM makes use of a grid-grid interaction matrix,\n",
    "$$\n",
    "\\mathrm{G} = \\begin{pmatrix}\n",
    "0 \\\\\n",
    "G_1 & 0 \\\\\n",
    "G_2 & G_1 & 0 \\\\\n",
    "G_3 & G_2 & G_1 & 0 \\\\\n",
    "G_4 & G_3 & G_2 & G_1 & 0 \\\\\n",
    "0   & G_4 & G_3 & G_2 & G_1 & 0 \\\\\n",
    "0   & 0   & G_4 & G_3 & G_2 & G_1 & 0\n",
    "\\end{pmatrix}\n",
    "$$\n",
    "where the $G_i$ have a three-level Toeplitz structure. The AIM specification paper details these $G_i$ as sparse propagation matricies of size $N_\\text{grid} \\times N_\\text{grid}$ with entries\n",
    "$$\n",
    "G_{\\ell - \\ell'}^{ij} = \\frac{T(t - r_{ij}/c)}{4 \\pi r_{ij}}; \\quad r_{ij} = \\left| \\mathbf{r}_j - \\mathbf{r}_i \\right|, t = (\\ell - \\ell') \\, \\Delta t.\n",
    "$$\n",
    "Taking $T(t)$ as the conventional Lagrange polynomial basis set,\n",
    "$$\n",
    "T(t) = \\sum_{i = 0}^{p} \\lambda_j(t); \\qquad \\lambda_j(t) = \\frac{(1 - t)_j}{j!} \\frac{(1 + t)_{p - j}}{(p - j)!} \\text{ if } j - 1 \\le t \\lt j\n",
    "$$"
   ]
  },
  {
   "cell_type": "code",
   "execution_count": 1,
   "metadata": {
    "collapsed": true
   },
   "outputs": [],
   "source": [
    "import itertools as it\n",
    "import numpy as np\n",
    "from numpy.linalg import norm\n",
    "import matplotlib.pyplot as plt\n",
    "from scipy.special import poch, factorial\n",
    "\n",
    "%matplotlib inline"
   ]
  },
  {
   "cell_type": "code",
   "execution_count": 2,
   "metadata": {},
   "outputs": [
    {
     "data": {
      "text/plain": [
       "[<matplotlib.lines.Line2D at 0x7fbb08c6e4a8>]"
      ]
     },
     "execution_count": 2,
     "metadata": {},
     "output_type": "execute_result"
    },
    {
     "data": {
      "image/png": "[encoded data removed]",
      "text/plain": [
       "<matplotlib.figure.Figure at 0x7fbb08cd9550>"
      ]
     },
     "metadata": {},
     "output_type": "display_data"
    }
   ],
   "source": [
    "def lagrange_basis(t, order):\n",
    "    def term(t, j):\n",
    "        in_range = np.logical_and(j - 1 <= t, t < j)\n",
    "        return in_range * (poch(1-t, j)/factorial(j) * poch(1 + t, order - j)/factorial(order - j))\n",
    "    \n",
    "    return sum([term(t, j) for j in range(order + 1)])\n",
    "\n",
    "ts = np.linspace(-1, 3)\n",
    "xs = lagrange_basis(ts, 3)\n",
    "plt.plot(ts, xs)"
   ]
  },
  {
   "cell_type": "markdown",
   "metadata": {},
   "source": [
    "...and a rectangular grid of equally-spaced points $(c = 1, \\Delta x = 1)$..."
   ]
  },
  {
   "cell_type": "code",
   "execution_count": 3,
   "metadata": {
    "collapsed": true
   },
   "outputs": [],
   "source": [
    "nx, ny, nz = 2, 2, 10\n",
    "pts = np.array(list(it.product(range(nx), range(ny), range(nz))))"
   ]
  },
  {
   "cell_type": "markdown",
   "metadata": {},
   "source": [
    "...then the $G_1$ sub-matrix becomes"
   ]
  },
  {
   "cell_type": "code",
   "execution_count": 4,
   "metadata": {},
   "outputs": [
    {
     "data": {
      "text/plain": [
       "<matplotlib.image.AxesImage at 0x7fbad943b358>"
      ]
     },
     "execution_count": 4,
     "metadata": {},
     "output_type": "execute_result"
    },
    {
     "data": {
      "image/png": "[encoded data removed]",
      "text/plain": [
       "<matplotlib.figure.Figure at 0x7fbb08d47cf8>"
      ]
     },
     "metadata": {},
     "output_type": "display_data"
    }
   ],
   "source": [
    "interp_order = 3\n",
    "g1 = np.array(\n",
    "    [[0 if ri is rj else lagrange_basis(1 - norm(rj - ri), interp_order) for ri in pts] for rj in pts]\n",
    ")\n",
    "\n",
    "plt.matshow(g1)"
   ]
  },
  {
   "cell_type": "markdown",
   "metadata": {
    "collapsed": true
   },
   "source": [
    "Because the pairwise calculation \"moves\" the fastest along $z$, $G_1$ is Toeplitz in $z$ and block-Toeplitz in $x$ and $y$. Consequently, we can diagonalize the Toeplitz blocks with an FFT to accelerate matrix-vector products."
   ]
  },
  {
   "cell_type": "code",
   "execution_count": 5,
   "metadata": {
    "collapsed": true
   },
   "outputs": [],
   "source": [
    "def chunk(xs, n):\n",
    "    \"\"\"Split a finite-sized iterable into equally-sized chunks \n",
    "    (plus a remainder chunk if n does not divide len(xs))\"\"\"\n",
    "    for i in range(0, len(xs), n):\n",
    "        yield xs[i:i + n]\n",
    "        \n",
    "num_vecs = nx * ny\n",
    "        \n",
    "# Build the compressed, diagonal representation of g1\n",
    "toeplitz_vectors = g1[0].reshape((num_vecs, nz))\n",
    "circulant_vectors = np.bmat(\n",
    "    [toeplitz_vectors, np.zeros([num_vecs, 1]), toeplitz_vectors[:, :0:-1]]\n",
    ")\n",
    "\n",
    "diag_circulant_vectors = np.fft.fft(circulant_vectors, axis=1)\n",
    "\n",
    "# Build a dummy x (for g1.dot(x)) in the same basis as the compressed vectors above\n",
    "test_x = np.arange(nx * ny * nz)\n",
    "test_x_parts = test_x.reshape([num_vecs, nz])\n",
    "\n",
    "diag_test_x_parts = np.fft.fft(np.bmat([test_x_parts, np.zeros([num_vecs, nz])]), axis=1)"
   ]
  },
  {
   "cell_type": "code",
   "execution_count": 6,
   "metadata": {},
   "outputs": [],
   "source": [
    "# Move through the compressed diag_test_x_parts to perform a matrix-vector product\n",
    "# on the block level\n",
    "\n",
    "def fourier_idx(row, col):\n",
    "    \"\"\"This is the *heart* of AIM --- given a list of (nx * ny) stored vectors each of length (nz)\n",
    "    corresponding to the values in a block-Toeplitz matrix, this function produces the vector index\n",
    "    corresponding to a block at (row, column) in the full matrix\"\"\"\n",
    "    def fourier_idx_pairs(row, col):\n",
    "        src = (col // ny, col % ny)\n",
    "        obs = (row // ny, row % ny)\n",
    "        return src, obs\n",
    "    \n",
    "    src, obs = fourier_idx_pairs(row, col)\n",
    "    \n",
    "    return ny * abs(obs[0] - src[0]) + abs(obs[1] - src[1])\n",
    "\n",
    "diag_results = np.zeros([num_vecs, 2 * nz], dtype='complex128')\n",
    "\n",
    "for row, col in it.product(range(num_vecs), range(num_vecs)):\n",
    "    diag_results[row] += diag_circulant_vectors[fourier_idx(row, col)] * diag_test_x_parts[col]\n",
    "    \n",
    "results = np.fft.ifft(diag_results, axis=1)[:,:nz]\n",
    "b_vec = np.real(np.concatenate(results))"
   ]
  },
  {
   "cell_type": "code",
   "execution_count": 7,
   "metadata": {},
   "outputs": [
    {
     "name": "stdout",
     "output_type": "stream",
     "text": [
      "FFT:  [  59.80192995   79.99409535   86.25262108   92.51114682   98.76967256\n",
      "  105.0281983   111.28672404  117.54524978  123.80377551   94.90862194\n",
      "   64.5143519    93.42230632   99.68083206  105.9393578   112.19788354\n",
      "  118.45640927  124.71493501  130.97346075  137.23198649   99.62104388\n",
      "   69.22677384  106.8505173   113.10904304  119.36756877  125.62609451\n",
      "  131.88462025  138.14314599  144.40167173  150.66019746  104.33346582\n",
      "   73.93919578  120.27872827  126.53725401  132.79577975  139.05430549\n",
      "  145.31283123  151.57135696  157.8298827   164.08840844  109.04588776]\n",
      "Matrix/vector:  [  59.80192995   79.99409535   86.25262108   92.51114682   98.76967256\n",
      "  105.0281983   111.28672404  117.54524978  123.80377551   94.90862194\n",
      "   64.5143519    93.42230632   99.68083206  105.9393578   112.19788354\n",
      "  118.45640927  124.71493501  130.97346075  137.23198649   99.62104388\n",
      "   69.22677384  106.8505173   113.10904304  119.36756877  125.62609451\n",
      "  131.88462025  138.14314599  144.40167173  150.66019746  104.33346582\n",
      "   73.93919578  120.27872827  126.53725401  132.79577975  139.05430549\n",
      "  145.31283123  151.57135696  157.8298827   164.08840844  109.04588776]\n",
      "Full vector error:  1.81729210607e-15\n"
     ]
    }
   ],
   "source": [
    "print(\"FFT: \", b_vec)\n",
    "print(\"Matrix/vector: \", g1.dot(test_x))\n",
    "print(\"Full vector error: \", np.linalg.norm((b_vec - g1.dot(test_x))/g1.dot(test_x)))"
   ]
  },
  {
   "cell_type": "code",
   "execution_count": null,
   "metadata": {
    "collapsed": true
   },
   "outputs": [],
   "source": []
  }
 ],
 "metadata": {
  "kernelspec": {
   "display_name": "Python 3",
   "language": "python",
   "name": "python3"
  },
  "language_info": {
   "codemirror_mode": {
    "name": "ipython",
    "version": 3
   },
   "file_extension": ".py",
   "mimetype": "text/x-python",
   "name": "python",
   "nbconvert_exporter": "python",
   "pygments_lexer": "ipython3",
   "version": "3.6.1"
  }
 },
 "nbformat": 4,
 "nbformat_minor": 2
}
