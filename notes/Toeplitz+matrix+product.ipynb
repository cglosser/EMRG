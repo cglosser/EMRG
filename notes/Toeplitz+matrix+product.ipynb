{
 "cells": [
  {
   "cell_type": "markdown",
   "metadata": {},
   "source": [
    "# Accelerated Toeplitz Matrix Multiplications"
   ]
  },
  {
   "cell_type": "markdown",
   "metadata": {},
   "source": [
    "We want to effect a matrix multiplication of the form\n",
    "$$\n",
    "\\begin{pmatrix}\n",
    "0 \\\\\n",
    "G_1 & 0 \\\\\n",
    "G_2 & G_1 & 0 \\\\\n",
    "G_3 & G_2 & G_1 & 0 \\\\\n",
    "G_4 & G_3 & G_2 & G_1 & 0 \\\\\n",
    "0   & G_4 & G_3 & G_2 & G_1 & 0 \\\\\n",
    "0   & 0   & G_4 & G_3 & G_2 & G_1 & 0 \\\\\n",
    "0   & 0   & 0   & G_4 & G_3 & G_2 & G_1 & 0\n",
    "\\end{pmatrix} \\cdot \n",
    "\\begin{pmatrix}\n",
    "P_0 \\\\ P_1 \\\\ P_2 \\\\ \\vdots \\\\ \\\\ \\\\ \\vdots \\\\ P_{n-1}\n",
    "\\end{pmatrix} = \n",
    "\\begin{pmatrix}\n",
    "E_0^\\text{far} \\\\ E_1^\\text{far} \\\\ E_2^\\text{far} \\\\ \\vdots \\\\ \\\\ \\\\ \\vdots \\\\ E_{n-1}^\\text{far}\n",
    "\\end{pmatrix}\n",
    "$$\n",
    "where the [AIM scheme](https://www.google.com/search?q=adaptive+integral+method&ie=utf-8&oe=utf-8) constrains the $G_{ij} = G_{i-j}$ to a three-level Toeplitz structure (assuming a 3D system). The matrix multiplication proceeds \"normally\" in that $E_i = \\sum_{j} G_{i-j} \\cdot P_j$ but we can specifically accelerate $G_{i-j} \\cdot P_j$ by exploiting the Toeplitz structure of the left operand."
   ]
  },
  {
   "cell_type": "code",
   "execution_count": 42,
   "metadata": {},
   "outputs": [],
   "source": [
    "from functools import reduce\n",
    "import itertools\n",
    "import matplotlib.pyplot as plt\n",
    "import numpy as np\n",
    "from operator import mul\n",
    "from scipy.spatial.distance import pdist, squareform\n",
    "%matplotlib inline"
   ]
  },
  {
   "cell_type": "code",
   "execution_count": 33,
   "metadata": {},
   "outputs": [
    {
     "data": {
      "image/png": "[encoded data removed]",
      "text/plain": [
       "<matplotlib.figure.Figure at 0x7f53e0027ef0>"
      ]
     },
     "metadata": {},
     "output_type": "display_data"
    }
   ],
   "source": [
    "dimensions = [3, 4, 5]\n",
    "pts = np.array(\n",
    "    list(\n",
    "        itertools.product(\n",
    "            range(dimensions[0]),\n",
    "            range(dimensions[1]),\n",
    "            range(dimensions[2])\n",
    "        )\n",
    "    )\n",
    ")\n",
    "\n",
    "plt.matshow(squareform(pdist(pts)));"
   ]
  },
  {
   "cell_type": "code",
   "execution_count": 44,
   "metadata": {},
   "outputs": [],
   "source": [
    "nx, ny = dimensions[:2]\n",
    "\n",
    "def fourier_idx_pairs(row, col):\n",
    "    src = (col // ny, col % ny)\n",
    "    obs = (row // ny, row % ny)\n",
    "    \n",
    "    return (src, obs)\n",
    "\n",
    "def fourier_idx(row, col):\n",
    "    src, obs = fourier_idx_pairs(row, col)\n",
    "    return ny * abs(obs[0] - src[0]) + abs(obs[1] - src[1])"
   ]
  },
  {
   "cell_type": "code",
   "execution_count": 49,
   "metadata": {},
   "outputs": [
    {
     "name": "stdout",
     "output_type": "stream",
     "text": [
      "[[ 0  1  2  3  4  5  6  7  8  9 10 11]\n",
      " [ 1  0  1  2  5  4  5  6  9  8  9 10]\n",
      " [ 2  1  0  1  6  5  4  5 10  9  8  9]\n",
      " [ 3  2  1  0  7  6  5  4 11 10  9  8]\n",
      " [ 4  5  6  7  0  1  2  3  4  5  6  7]\n",
      " [ 5  4  5  6  1  0  1  2  5  4  5  6]\n",
      " [ 6  5  4  5  2  1  0  1  6  5  4  5]\n",
      " [ 7  6  5  4  3  2  1  0  7  6  5  4]\n",
      " [ 8  9 10 11  4  5  6  7  0  1  2  3]\n",
      " [ 9  8  9 10  5  4  5  6  1  0  1  2]\n",
      " [10  9  8  9  6  5  4  5  2  1  0  1]\n",
      " [11 10  9  8  7  6  5  4  3  2  1  0]]\n"
     ]
    },
    {
     "data": {
      "image/png": "[encoded data removed]",
      "text/plain": [
       "<matplotlib.figure.Figure at 0x7f53b7e986a0>"
      ]
     },
     "metadata": {},
     "output_type": "display_data"
    }
   ],
   "source": [
    "fourier_ids = np.array([\n",
    "    [fourier_idx(r, c) for c in range(nx * ny)]\n",
    "    for r in range(nx * ny)\n",
    "])\n",
    "\n",
    "print(fourier_ids)\n",
    "plt.matshow(fourier_ids);"
   ]
  },
  {
   "cell_type": "code",
   "execution_count": null,
   "metadata": {
    "collapsed": true
   },
   "outputs": [],
   "source": []
  }
 ],
 "metadata": {
  "kernelspec": {
   "display_name": "Python 3",
   "language": "python",
   "name": "python3"
  },
  "language_info": {
   "codemirror_mode": {
    "name": "ipython",
    "version": 3
   },
   "file_extension": ".py",
   "mimetype": "text/x-python",
   "name": "python",
   "nbconvert_exporter": "python",
   "pygments_lexer": "ipython3",
   "version": "3.6.1"
  }
 },
 "nbformat": 4,
 "nbformat_minor": 2
}
